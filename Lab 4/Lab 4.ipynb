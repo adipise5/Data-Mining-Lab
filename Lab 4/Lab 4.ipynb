{
 "cells": [
  {
   "cell_type": "code",
   "execution_count": 59,
   "id": "993412e8",
   "metadata": {},
   "outputs": [],
   "source": [
    "# Required Libraries\n",
    "import pandas as pd          \n",
    "import numpy as np              \n",
    "from sklearn.model_selection import train_test_split   \n",
    "from sklearn.naive_bayes import GaussianNB             \n",
    "from sklearn.metrics import classification_report, confusion_matrix  \n",
    "from sklearn.metrics import accuracy_score                            \n"
   ]
  },
  {
   "cell_type": "code",
   "execution_count": 60,
   "id": "22041a67",
   "metadata": {},
   "outputs": [
    {
     "data": {
      "text/html": [
       "<div>\n",
       "<style scoped>\n",
       "    .dataframe tbody tr th:only-of-type {\n",
       "        vertical-align: middle;\n",
       "    }\n",
       "\n",
       "    .dataframe tbody tr th {\n",
       "        vertical-align: top;\n",
       "    }\n",
       "\n",
       "    .dataframe thead th {\n",
       "        text-align: right;\n",
       "    }\n",
       "</style>\n",
       "<table border=\"1\" class=\"dataframe\">\n",
       "  <thead>\n",
       "    <tr style=\"text-align: right;\">\n",
       "      <th></th>\n",
       "      <th>0</th>\n",
       "      <th>1</th>\n",
       "      <th>2</th>\n",
       "      <th>3</th>\n",
       "      <th>4</th>\n",
       "      <th>5</th>\n",
       "      <th>6</th>\n",
       "      <th>7</th>\n",
       "      <th>8</th>\n",
       "      <th>9</th>\n",
       "      <th>10</th>\n",
       "      <th>11</th>\n",
       "    </tr>\n",
       "  </thead>\n",
       "  <tbody>\n",
       "    <tr>\n",
       "      <th>0</th>\n",
       "      <td>id</td>\n",
       "      <td>age</td>\n",
       "      <td>sex</td>\n",
       "      <td>region</td>\n",
       "      <td>income</td>\n",
       "      <td>married</td>\n",
       "      <td>children</td>\n",
       "      <td>car</td>\n",
       "      <td>save_act</td>\n",
       "      <td>current_act</td>\n",
       "      <td>mortgage</td>\n",
       "      <td>pep</td>\n",
       "    </tr>\n",
       "    <tr>\n",
       "      <th>1</th>\n",
       "      <td>ID12101</td>\n",
       "      <td>48</td>\n",
       "      <td>FEMALE</td>\n",
       "      <td>INNER_CITY</td>\n",
       "      <td>17546</td>\n",
       "      <td>NO</td>\n",
       "      <td>1</td>\n",
       "      <td>NO</td>\n",
       "      <td>NO</td>\n",
       "      <td>NO</td>\n",
       "      <td>NO</td>\n",
       "      <td>YES</td>\n",
       "    </tr>\n",
       "    <tr>\n",
       "      <th>2</th>\n",
       "      <td>ID12102</td>\n",
       "      <td>40</td>\n",
       "      <td>MALE</td>\n",
       "      <td>TOWN</td>\n",
       "      <td>30085.1</td>\n",
       "      <td>YES</td>\n",
       "      <td>3</td>\n",
       "      <td>YES</td>\n",
       "      <td>NO</td>\n",
       "      <td>YES</td>\n",
       "      <td>YES</td>\n",
       "      <td>NO</td>\n",
       "    </tr>\n",
       "    <tr>\n",
       "      <th>3</th>\n",
       "      <td>ID12103</td>\n",
       "      <td>51</td>\n",
       "      <td>FEMALE</td>\n",
       "      <td>INNER_CITY</td>\n",
       "      <td>16575.4</td>\n",
       "      <td>YES</td>\n",
       "      <td>0</td>\n",
       "      <td>YES</td>\n",
       "      <td>YES</td>\n",
       "      <td>YES</td>\n",
       "      <td>NO</td>\n",
       "      <td>NO</td>\n",
       "    </tr>\n",
       "    <tr>\n",
       "      <th>4</th>\n",
       "      <td>ID12104</td>\n",
       "      <td>23</td>\n",
       "      <td>FEMALE</td>\n",
       "      <td>TOWN</td>\n",
       "      <td>20375.4</td>\n",
       "      <td>YES</td>\n",
       "      <td>3</td>\n",
       "      <td>NO</td>\n",
       "      <td>NO</td>\n",
       "      <td>YES</td>\n",
       "      <td>NO</td>\n",
       "      <td>NO</td>\n",
       "    </tr>\n",
       "  </tbody>\n",
       "</table>\n",
       "</div>"
      ],
      "text/plain": [
       "        0    1       2           3        4        5         6    7   \\\n",
       "0       id  age     sex      region   income  married  children  car   \n",
       "1  ID12101   48  FEMALE  INNER_CITY    17546       NO         1   NO   \n",
       "2  ID12102   40    MALE        TOWN  30085.1      YES         3  YES   \n",
       "3  ID12103   51  FEMALE  INNER_CITY  16575.4      YES         0  YES   \n",
       "4  ID12104   23  FEMALE        TOWN  20375.4      YES         3   NO   \n",
       "\n",
       "         8            9         10   11  \n",
       "0  save_act  current_act  mortgage  pep  \n",
       "1        NO           NO        NO  YES  \n",
       "2        NO          YES       YES   NO  \n",
       "3       YES          YES        NO   NO  \n",
       "4        NO          YES        NO   NO  "
      ]
     },
     "execution_count": 60,
     "metadata": {},
     "output_type": "execute_result"
    }
   ],
   "source": [
    "df = pd.read_csv(\"bank-data.csv\", header=None)\n",
    "df.head()"
   ]
  },
  {
   "cell_type": "code",
   "execution_count": 61,
   "id": "4391e107",
   "metadata": {},
   "outputs": [
    {
     "data": {
      "text/html": [
       "<div>\n",
       "<style scoped>\n",
       "    .dataframe tbody tr th:only-of-type {\n",
       "        vertical-align: middle;\n",
       "    }\n",
       "\n",
       "    .dataframe tbody tr th {\n",
       "        vertical-align: top;\n",
       "    }\n",
       "\n",
       "    .dataframe thead th {\n",
       "        text-align: right;\n",
       "    }\n",
       "</style>\n",
       "<table border=\"1\" class=\"dataframe\">\n",
       "  <thead>\n",
       "    <tr style=\"text-align: right;\">\n",
       "      <th></th>\n",
       "      <th>0</th>\n",
       "      <th>1</th>\n",
       "      <th>2</th>\n",
       "      <th>3</th>\n",
       "      <th>4</th>\n",
       "      <th>5</th>\n",
       "      <th>6</th>\n",
       "      <th>7</th>\n",
       "      <th>8</th>\n",
       "      <th>9</th>\n",
       "      <th>10</th>\n",
       "      <th>11</th>\n",
       "    </tr>\n",
       "  </thead>\n",
       "  <tbody>\n",
       "    <tr>\n",
       "      <th>0</th>\n",
       "      <td>479</td>\n",
       "      <td>50</td>\n",
       "      <td>2</td>\n",
       "      <td>4</td>\n",
       "      <td>478</td>\n",
       "      <td>2</td>\n",
       "      <td>4</td>\n",
       "      <td>2</td>\n",
       "      <td>2</td>\n",
       "      <td>2</td>\n",
       "      <td>2</td>\n",
       "      <td>2</td>\n",
       "    </tr>\n",
       "    <tr>\n",
       "      <th>1</th>\n",
       "      <td>0</td>\n",
       "      <td>30</td>\n",
       "      <td>0</td>\n",
       "      <td>0</td>\n",
       "      <td>100</td>\n",
       "      <td>0</td>\n",
       "      <td>1</td>\n",
       "      <td>0</td>\n",
       "      <td>0</td>\n",
       "      <td>0</td>\n",
       "      <td>0</td>\n",
       "      <td>1</td>\n",
       "    </tr>\n",
       "    <tr>\n",
       "      <th>2</th>\n",
       "      <td>1</td>\n",
       "      <td>22</td>\n",
       "      <td>1</td>\n",
       "      <td>3</td>\n",
       "      <td>287</td>\n",
       "      <td>1</td>\n",
       "      <td>3</td>\n",
       "      <td>1</td>\n",
       "      <td>0</td>\n",
       "      <td>1</td>\n",
       "      <td>1</td>\n",
       "      <td>0</td>\n",
       "    </tr>\n",
       "    <tr>\n",
       "      <th>3</th>\n",
       "      <td>2</td>\n",
       "      <td>33</td>\n",
       "      <td>0</td>\n",
       "      <td>0</td>\n",
       "      <td>86</td>\n",
       "      <td>1</td>\n",
       "      <td>0</td>\n",
       "      <td>1</td>\n",
       "      <td>1</td>\n",
       "      <td>1</td>\n",
       "      <td>0</td>\n",
       "      <td>0</td>\n",
       "    </tr>\n",
       "    <tr>\n",
       "      <th>4</th>\n",
       "      <td>3</td>\n",
       "      <td>5</td>\n",
       "      <td>0</td>\n",
       "      <td>3</td>\n",
       "      <td>139</td>\n",
       "      <td>1</td>\n",
       "      <td>3</td>\n",
       "      <td>0</td>\n",
       "      <td>0</td>\n",
       "      <td>1</td>\n",
       "      <td>0</td>\n",
       "      <td>0</td>\n",
       "    </tr>\n",
       "  </tbody>\n",
       "</table>\n",
       "</div>"
      ],
      "text/plain": [
       "    0   1   2   3    4   5   6   7   8   9   10  11\n",
       "0  479  50   2   4  478   2   4   2   2   2   2   2\n",
       "1    0  30   0   0  100   0   1   0   0   0   0   1\n",
       "2    1  22   1   3  287   1   3   1   0   1   1   0\n",
       "3    2  33   0   0   86   1   0   1   1   1   0   0\n",
       "4    3   5   0   3  139   1   3   0   0   1   0   0"
      ]
     },
     "execution_count": 61,
     "metadata": {},
     "output_type": "execute_result"
    }
   ],
   "source": [
    "from sklearn import preprocessing\n",
    "le = preprocessing.LabelEncoder()\n",
    "for col in df.columns:\n",
    "    df[col] = le.fit_transform(df[col])\n",
    "df.head()"
   ]
  },
  {
   "cell_type": "code",
   "execution_count": 62,
   "id": "18fa5411",
   "metadata": {},
   "outputs": [],
   "source": [
    "X = df[df.columns[:-1]]\n",
    "Y = df[df.columns[-1]]"
   ]
  },
  {
   "cell_type": "code",
   "execution_count": 63,
   "id": "e99df628",
   "metadata": {},
   "outputs": [],
   "source": [
    "X_train, X_test, Y_train, Y_test = train_test_split(X, Y, test_size=0.20, random_state=30)"
   ]
  },
  {
   "cell_type": "code",
   "execution_count": 64,
   "id": "988596fd",
   "metadata": {},
   "outputs": [],
   "source": [
    "from sklearn.naive_bayes import GaussianNB\n",
    "gnb = GaussianNB()"
   ]
  },
  {
   "cell_type": "code",
   "execution_count": 65,
   "id": "0a4915ad",
   "metadata": {},
   "outputs": [],
   "source": [
    "X_train, X_test, Y_train, Y_test = train_test_split(X, Y, test_size=0.30, random_state=30)\n",
    "Y_pred = gnb.fit(X_train, Y_train).predict(X_test)"
   ]
  },
  {
   "cell_type": "code",
   "execution_count": 66,
   "id": "4db55ca5",
   "metadata": {},
   "outputs": [
    {
     "name": "stdout",
     "output_type": "stream",
     "text": [
      "Number of mislabeled points out of a total 144 points : 51\n"
     ]
    }
   ],
   "source": [
    "print(\"Number of mislabeled points out of a total %d points : %d\" % (X_test.shape[0], (Y_test != Y_pred).sum()))"
   ]
  },
  {
   "cell_type": "code",
   "execution_count": 67,
   "id": "e16ce454",
   "metadata": {},
   "outputs": [
    {
     "name": "stdout",
     "output_type": "stream",
     "text": [
      "[[60 20  0]\n",
      " [30 33  0]\n",
      " [ 1  0  0]]\n",
      "\n",
      " Accuracy\n",
      "0.6458333333333334\n"
     ]
    }
   ],
   "source": [
    "print(confusion_matrix(Y_test, Y_pred))\n",
    "print(\"\\n Accuracy\")\n",
    "print(accuracy_score(Y_test, Y_pred))\n"
   ]
  },
  {
   "cell_type": "markdown",
   "id": "0810273a",
   "metadata": {},
   "source": [
    "Q1 – Naive Bayes with and without irrelevant attribute"
   ]
  },
  {
   "cell_type": "code",
   "execution_count": 68,
   "id": "5df5847f",
   "metadata": {},
   "outputs": [
    {
     "name": "stdout",
     "output_type": "stream",
     "text": [
      "Naive Bayes with irrelevant attribute: 0.6458333333333334\n",
      "Naive Bayes without irrelevant attribute: 0.6458333333333334\n"
     ]
    }
   ],
   "source": [
    "df = pd.read_csv(\"bank-data.csv\", header=None)\n",
    "\n",
    "le = preprocessing.LabelEncoder()\n",
    "for col in df.columns:\n",
    "    df[col] = le.fit_transform(df[col])\n",
    "\n",
    "X = df[df.columns[:-1]]\n",
    "Y = df[df.columns[-1]]\n",
    "\n",
    "np.random.seed(30)\n",
    "X[\"current_act\"] = np.random.randint(0, 5, X.shape[0])\n",
    "\n",
    "X.columns = X.columns.astype(str)\n",
    "\n",
    "X_train, X_test, Y_train, Y_test = train_test_split(X, Y, test_size=0.30, random_state=30)\n",
    "\n",
    "gnb = GaussianNB()\n",
    "Y_pred_with = gnb.fit(X_train, Y_train).predict(X_test)\n",
    "print(\"Naive Bayes with irrelevant attribute:\", accuracy_score(Y_test, Y_pred_with))\n",
    "\n",
    "X_no_irrel = X.drop(columns=[\"current_act\"])\n",
    "X_train2, X_test2, Y_train2, Y_test2 = train_test_split(X_no_irrel, Y, test_size=0.30, random_state=30)\n",
    "Y_pred_without = gnb.fit(X_train2, Y_train2).predict(X_test2)\n",
    "print(\"Naive Bayes without irrelevant attribute:\", accuracy_score(Y_test2, Y_pred_without))"
   ]
  },
  {
   "cell_type": "markdown",
   "id": "35ae1d97",
   "metadata": {},
   "source": [
    "Q2 – KNN with and without irrelevant attribute"
   ]
  },
  {
   "cell_type": "code",
   "execution_count": 69,
   "id": "8005ee8b",
   "metadata": {},
   "outputs": [
    {
     "name": "stdout",
     "output_type": "stream",
     "text": [
      "KNN with irrelevant attribute: 0.5277777777777778\n",
      "KNN without irrelevant attribute: 0.5277777777777778\n"
     ]
    }
   ],
   "source": [
    "from sklearn.neighbors import KNeighborsClassifier\n",
    "df = pd.read_csv(\"car.csv\", header=None)\n",
    "knn = KNeighborsClassifier(n_neighbors=5)\n",
    "knn.fit(X_train, Y_train)\n",
    "Y_pred_knn_with = knn.predict(X_test)\n",
    "print(\"KNN with irrelevant attribute:\", accuracy_score(Y_test, Y_pred_knn_with))\n",
    "\n",
    "knn.fit(X_train2, Y_train2)\n",
    "Y_pred_knn_without = knn.predict(X_test2)\n",
    "print(\"KNN without irrelevant attribute:\", accuracy_score(Y_test2, Y_pred_knn_without))"
   ]
  },
  {
   "cell_type": "markdown",
   "id": "84c334d7",
   "metadata": {},
   "source": [
    "Q3 – Naive Bayes on car.csv"
   ]
  },
  {
   "cell_type": "code",
   "execution_count": 70,
   "id": "f3b44b64",
   "metadata": {},
   "outputs": [
    {
     "name": "stdout",
     "output_type": "stream",
     "text": [
      "Naive Bayes accuracy on car dataset: 0.6458333333333334\n"
     ]
    }
   ],
   "source": [
    "print(\"Naive Bayes accuracy on car dataset:\", accuracy_score(Y_test2, Y_pred_without))"
   ]
  },
  {
   "cell_type": "markdown",
   "id": "8e44b127",
   "metadata": {},
   "source": [
    "Q4 – Correlation between attributes"
   ]
  },
  {
   "cell_type": "code",
   "execution_count": 71,
   "id": "8c9f8723",
   "metadata": {},
   "outputs": [
    {
     "name": "stdout",
     "output_type": "stream",
     "text": [
      "Correlation values in ascending order:\n",
      "\n",
      "unacc    2.1       -2.992590e-01\n",
      "2.1      unacc     -2.992590e-01\n",
      "2        unacc     -3.094953e-02\n",
      "unacc    2         -3.094953e-02\n",
      "         low       -2.104530e-02\n",
      "low      unacc     -2.104530e-02\n",
      "vhigh    vhigh.1   -1.043357e-03\n",
      "vhigh.1  vhigh     -1.043357e-03\n",
      "vhigh    small     -9.523677e-04\n",
      "small    vhigh     -9.523677e-04\n",
      "vhigh.1  small     -9.523677e-04\n",
      "small    vhigh.1   -9.523677e-04\n",
      "2        2.1       -9.523677e-04\n",
      "2.1      2         -9.523677e-04\n",
      "low      vhigh     -3.200145e-16\n",
      "vhigh    low       -3.200145e-16\n",
      "low      vhigh.1   -1.012963e-16\n",
      "vhigh.1  low       -1.012963e-16\n",
      "small    low       -7.231156e-18\n",
      "low      small     -7.231156e-18\n",
      "2.1      low        2.362177e-17\n",
      "low      2.1        2.362177e-17\n",
      "         2          6.731959e-17\n",
      "2        low        6.731959e-17\n",
      "2.1      small      8.693132e-04\n",
      "small    2.1        8.693132e-04\n",
      "vhigh    2.1        9.523677e-04\n",
      "2.1      vhigh      9.523677e-04\n",
      "vhigh.1  2.1        9.523677e-04\n",
      "2.1      vhigh.1    9.523677e-04\n",
      "2        small      9.523677e-04\n",
      "small    2          9.523677e-04\n",
      "2        vhigh      1.043357e-03\n",
      "vhigh    2          1.043357e-03\n",
      "2        vhigh.1    1.043357e-03\n",
      "vhigh.1  2          1.043357e-03\n",
      "unacc    small      3.283926e-02\n",
      "small    unacc      3.283926e-02\n",
      "vhigh.1  unacc      3.982107e-02\n",
      "unacc    vhigh.1    3.982107e-02\n",
      "         vhigh      5.105835e-02\n",
      "vhigh    unacc      5.105835e-02\n",
      "dtype: float64\n"
     ]
    }
   ],
   "source": [
    "import pandas as pd\n",
    "from sklearn.preprocessing import LabelEncoder\n",
    "df = pd.read_csv(\"car.csv\")\n",
    "le = LabelEncoder()\n",
    "for col in df.columns:\n",
    "    df[col] = le.fit_transform(df[col])\n",
    "corr_matrix = df.corr()\n",
    "corr_pairs = corr_matrix.unstack().sort_values()\n",
    "corr_pairs = corr_pairs[corr_pairs != 1]\n",
    "\n",
    "print(\"Correlation values in ascending order:\\n\")\n",
    "print(corr_pairs)\n"
   ]
  },
  {
   "cell_type": "markdown",
   "id": "d478f05d",
   "metadata": {},
   "source": [
    "Q5 – Remove one highly correlated attribute & apply Naive Bayes"
   ]
  },
  {
   "cell_type": "code",
   "execution_count": 72,
   "id": "ff114705",
   "metadata": {},
   "outputs": [
    {
     "name": "stdout",
     "output_type": "stream",
     "text": [
      "Naive Bayes after removing correlated attribute: 0.6527777777777778\n"
     ]
    }
   ],
   "source": [
    "import pandas as pd\n",
    "from sklearn.preprocessing import LabelEncoder\n",
    "df = pd.read_csv(\"car.csv\")\n",
    "corr_matrix = X_no_irrel.corr()\n",
    "corr_unstack = corr_matrix.where(~np.eye(corr_matrix.shape[0],dtype=bool)).unstack().dropna()\n",
    "high_corr_pair = corr_unstack.abs().idxmax()\n",
    "\n",
    "X_reduced = X_no_irrel.drop(columns=[high_corr_pair[0]])\n",
    "X_train3, X_test3, Y_train3, Y_test3 = train_test_split(X_reduced, Y, test_size=0.30, random_state=30)\n",
    "Y_pred_reduced = gnb.fit(X_train3, Y_train3).predict(X_test3)\n",
    "print(\"Naive Bayes after removing correlated attribute:\", accuracy_score(Y_test3, Y_pred_reduced))\n"
   ]
  }
 ],
 "metadata": {
  "kernelspec": {
   "display_name": "base",
   "language": "python",
   "name": "python3"
  },
  "language_info": {
   "codemirror_mode": {
    "name": "ipython",
    "version": 3
   },
   "file_extension": ".py",
   "mimetype": "text/x-python",
   "name": "python",
   "nbconvert_exporter": "python",
   "pygments_lexer": "ipython3",
   "version": "3.12.7"
  }
 },
 "nbformat": 4,
 "nbformat_minor": 5
}
